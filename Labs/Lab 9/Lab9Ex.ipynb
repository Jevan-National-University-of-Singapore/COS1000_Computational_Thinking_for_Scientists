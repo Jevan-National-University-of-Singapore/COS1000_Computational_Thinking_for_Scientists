{
 "cells": [
  {
   "cell_type": "markdown",
   "metadata": {},
   "source": [
    "# <span style = \"color:blue\">Lab 9 Exercise</span>\n",
    "<div class = \"alert alert-danger\">\n",
    "Name your file after your student (matric) number, for example, A1234567B_Lab9Ex.ipynb\n",
    "\n",
    "Please let the lab facilitator check your work and mark your attendance before leaving the lab.\n",
    "</div>"
   ]
  },
  {
   "cell_type": "markdown",
   "metadata": {},
   "source": [
    "## <span style = \"color:blue\">Question 1</span>\n",
    "\n",
    "Write a program that uses the Monte Carlo method to estimate the area of a right-angled triangle with coordinates (0,0), (p,0) and (p,q) within a unit square. Your program is to perform the following:\n",
    "- Prompt for an input of the number of points to simulate\n",
    "- Prompt for $p$ and $q$ ($0<p<1.0; 0<q<1.0$) (there is no necessity to check for any invalid input)\n",
    "- Output the areas computed based on theory and from your simulation\n",
    "- Display an appropriate plot to show the simulation\n",
    "\n",
    "(**Hint:** Consider the equation of the line joining (0,0) and (p,q) when determining whether points lie within or outside the triangle.)"
   ]
  },
  {
   "cell_type": "markdown",
   "metadata": {},
   "source": [
    "## <span style = \"color:blue\">Question 2</span>\n",
    "\n",
    "Write a program to simulate the playing of a casino game known as Jackpot for 100 persons. On each attempt, a set of three letters will be generated from a collection of seven letters \"A\", \"B\", \"C\", \"D\", \"E\", \"F\" and \"G\" randomly. Each attempt costs **1** dollar. If the three letters generated are consecutively \"A\" or \"B\" (i.e. either \"AAA\" or \"BBB\"), the player wins **50** dollars. Your program has to perform the following:\n",
    "- Prompt for an input of the number of attempts _N_ (which corresponds to the number of times of playing the Jackpot for each person).\n",
    "- Save the net amount won or lost accumulated at the end of _N_ attempts for each person.\n",
    "- Plot a histogram of the net amount won or lost for all 100 persons (there is no fixed value for the bins as it depends on the range of the data; set between 10 and 20). \n",
    "- Compute the expected (mean) winning or loss for each person.\n",
    "\n",
    "(**Hint:** You may consider using a nested loop over 100 persons over _N_ attempts, with each attempt having a 3-letter sequence generated randomly. Compare the 3-letter sequence generated with the winning letters and update the amount won or lost for each attempt. Reset the 3-letter sequence before the next attempt. Append the net amount won or lost for each person after _N_ attempts to a list. Reset the net amount before simulating the next person.)\n",
    "\n",
    "**Food for thought**: For a very determined player who attempts a large number of times, will the expected net amount more likely to result in a winning or a loss?"
   ]
  }
 ],
 "metadata": {
  "kernelspec": {
   "display_name": "Python 3 (ipykernel)",
   "language": "python",
   "name": "python3"
  },
  "language_info": {
   "codemirror_mode": {
    "name": "ipython",
    "version": 3
   },
   "file_extension": ".py",
   "mimetype": "text/x-python",
   "name": "python",
   "nbconvert_exporter": "python",
   "pygments_lexer": "ipython3",
   "version": "3.9.12"
  }
 },
 "nbformat": 4,
 "nbformat_minor": 4
}
