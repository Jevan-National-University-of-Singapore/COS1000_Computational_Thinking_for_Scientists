{
 "cells": [
  {
   "cell_type": "markdown",
   "metadata": {},
   "source": [
    "# <span style = \"color:blue\">Lab 8 Exercise</span>\n",
    "<div class = \"alert alert-danger\">\n",
    "Name your file after your student (matric) number, for example, A1234567B_Lab7Ex.ipynb\n",
    "\n",
    "Please let the lab facilitator check your work and mark your attendance before leaving the lab.\n",
    "</div>"
   ]
  },
  {
   "cell_type": "markdown",
   "metadata": {},
   "source": [
    "## <span style = \"color:blue\">Question 1</span>\n",
    "Some infections, for example, those from the common cold and influenza, do not confer any long-lasting immunity upon recovery, and individuals become susceptible again. The SIS model can be used to study the behaviour of such infections.\n",
    "\n",
    "In the SIS model, there are only two compartments in a fixed population:\n",
    "\n",
    "- $S(t)$ (susceptible) represents individuals of the population not yet infected with the disease at time $t$, or those susceptible in the population.\n",
    "- $I(t)$ (infectious) represents individuals of the population who have been infected with the disease and are capable of infecting others in the susceptible group. Once recovered, they are back to the susceptible population.\n",
    "\n",
    "The normalised SIS formulation consists of the following set of coupled ordinary differential equations: \n",
    "\n",
    "$$ \\frac{dS'}{dt} = -rI'(R_{0}S'-1) $$ \n",
    "$$ \\frac{dI'}{dt} = rI'(R_{0}S'-1) $$ \n",
    "\n",
    "$r$ is the rate of recovery and $R_{0}$ is the basic reproductive number or ratio and is dependent on the parameter for infectivity ($R_{0} = \\dfrac{\\beta N}{r}$ where $N$ is the total population assumed to be a constant). \n",
    "\n",
    "You are to solve for the set of coupled ordinary differential equations in the SIS model and plot both the susceptible and infected populations on the same graph for $r = 1.0$ and $U0 = [1.0, 0.001]$. Create four plots with $R0$ taking on the following values:\n",
    "\n",
    "(a) 1.5\n",
    "\n",
    "(b) 2.0\n",
    "\n",
    "(c) 3.0\n",
    "\n",
    "(d) 4.0"
   ]
  },
  {
   "cell_type": "markdown",
   "metadata": {},
   "source": [
    "## <span style = \"color:blue\">Question 2</span>\n",
    "Referring to the code in Lab 8 on the visualisation of SG Covid data during the Delta virus spread, do a similar plot for the case of the first wave of the Omicron virus which occurs around 2021-12-01 to 2022-05-01."
   ]
  }
 ],
 "metadata": {
  "kernelspec": {
   "display_name": "Python 3 (ipykernel)",
   "language": "python",
   "name": "python3"
  },
  "language_info": {
   "codemirror_mode": {
    "name": "ipython",
    "version": 3
   },
   "file_extension": ".py",
   "mimetype": "text/x-python",
   "name": "python",
   "nbconvert_exporter": "python",
   "pygments_lexer": "ipython3",
   "version": "3.9.12"
  }
 },
 "nbformat": 4,
 "nbformat_minor": 4
}
