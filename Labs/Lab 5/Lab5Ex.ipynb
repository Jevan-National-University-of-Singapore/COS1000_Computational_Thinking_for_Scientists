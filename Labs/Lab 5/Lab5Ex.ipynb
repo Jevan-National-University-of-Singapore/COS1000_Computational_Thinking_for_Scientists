{
 "cells": [
  {
   "cell_type": "markdown",
   "metadata": {},
   "source": [
    "# <span style = \"color:blue\">Lab 5 Exercise</span>\n",
    "<div class = \"alert alert-danger\">\n",
    "Name your file after your student (matric) number, for example, A1234567B_Lab5Ex.ipynb\n",
    "\n",
    "Please let the lab facilitator check your work and mark your attendance before leaving the lab.\n",
    "</div>"
   ]
  },
  {
   "cell_type": "markdown",
   "metadata": {},
   "source": [
    "# <span style = \"color:blue\">Question 1:</span>\n",
    "\n",
    "Given the csv file SocialMedia.csv, write a program to plot a horizontal bar chart of the number of users of the various social media platforms in the year 2017. Label your chart clearly. The first few lines of code have been done for you."
   ]
  },
  {
   "cell_type": "code",
   "execution_count": 2,
   "metadata": {},
   "outputs": [],
   "source": [
    "import matplotlib.pyplot as plt\n",
    "import pandas as pd\n",
    "\n",
    "# Prepare data\n",
    "data = pd.read_csv('SocialMedia.csv')   # Create a dataframe from the csv file"
   ]
  },
  {
   "cell_type": "code",
   "execution_count": null,
   "metadata": {},
   "outputs": [],
   "source": [
    "# x = []\n",
    "# nIteration = 100\n",
    "\n",
    "# for n in range(nIteration): \n",
    "#     x.append(r*x[n]*(1.0-x[n]))\n",
    "\n",
    "# y = x[trans_end:nIteration+1]   \n",
    "y = [5,10,11,12]\n",
    "plt.plot(y,\"gs-\")"
   ]
  },
  {
   "cell_type": "markdown",
   "metadata": {},
   "source": [
    "# <span style = \"color:blue\">Question 2:</span>\n",
    "Given the csv file LifeExpectancy.csv, write a program that will chart the life expectancy of three countries of your choice. Your plot should include the data from the year 1950 to the year 2019 (inclusive). The first few lines of code have been done for you."
   ]
  },
  {
   "cell_type": "code",
   "execution_count": 4,
   "metadata": {},
   "outputs": [],
   "source": [
    "import matplotlib.pyplot as plt\n",
    "import pandas as pd\n",
    "\n",
    "# Prepare data\n",
    "data = pd.read_csv('LifeExpectancy.csv')   # Create a dataframe from the csv file"
   ]
  }
 ],
 "metadata": {
  "kernelspec": {
   "display_name": "Python 3.10.6 ('cos')",
   "language": "python",
   "name": "python3"
  },
  "language_info": {
   "codemirror_mode": {
    "name": "ipython",
    "version": 3
   },
   "file_extension": ".py",
   "mimetype": "text/x-python",
   "name": "python",
   "nbconvert_exporter": "python",
   "pygments_lexer": "ipython3",
   "version": "3.10.6"
  },
  "vscode": {
   "interpreter": {
    "hash": "9201c732086af103d00d9856b09e08727cd575558f8f7eeab7747519485a4ebe"
   }
  }
 },
 "nbformat": 4,
 "nbformat_minor": 4
}
