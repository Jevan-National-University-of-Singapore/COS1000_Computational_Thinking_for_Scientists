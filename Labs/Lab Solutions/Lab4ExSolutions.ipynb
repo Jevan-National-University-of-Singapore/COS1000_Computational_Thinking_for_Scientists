{
 "cells": [
  {
   "cell_type": "markdown",
   "metadata": {},
   "source": [
    "# <span style = \"color:blue\">Lab 4 Exercise Solutions</span>\n",
    "<div class = \"alert alert-danger\">\n",
    "Name your file after your student (matric) number, for example, A1234567B_Lab4Ex.ipynb\n",
    "\n",
    "Please let the lab facilitator check your work and mark your attendance before leaving the lab.\n",
    "</div>"
   ]
  },
  {
   "attachments": {
    "Lab4ExQ1-3.png": {
     "image/png": "[encoded data removed]"
    }
   },
   "cell_type": "markdown",
   "metadata": {},
   "source": [
    "## <span style = \"color:blue\">Question 1</span>\n",
    "Write a program that implements a simple calculator application. Your program should define a function with three parameters (two operands and one operation code). The following shows the operation code for performing the corresponding operation on the two operands: \n",
    "\n",
    "1  :  Addition (op1 $+$ op2)<br>\n",
    "2  :  Subtraction (op1 $-$ op2)<br>\n",
    "3  :  Multiplication (op1 $\\times$ op2)<br>\n",
    "4  :  Division (op1 $\\div$ op2)<br>\n",
    "5  :  Exponentiation (op1$^{op2}$)<br>\n",
    "6  :  Square root ($\\sqrt{op1}$); op2 = 2<br>\n",
    "7  :  Log with a base ($\\log_{op2}$op1)<br>\n",
    "\n",
    "For operations 6 and 7, you may call the corresponding functions available from the math module. Assuming only valid numeric values are entered (integers or floats), there is no necessity to check for invalid entry in your program. The following shows one instance of running the program:\n",
    "\n",
    "![Lab4ExQ1-3.png](attachment:Lab4ExQ1-3.png)"
   ]
  },
  {
   "cell_type": "code",
   "execution_count": 3,
   "metadata": {},
   "outputs": [
    {
     "name": "stdout",
     "output_type": "stream",
     "text": [
      "Enter first operand: 3\n",
      "Enter second operand: 4\n",
      "Enter operation code: 7\n",
      "The operation gives 0.7924812503605781\n"
     ]
    }
   ],
   "source": [
    "import math as m\n",
    "\n",
    "def simCal(op1, op2, code):\n",
    "    if (code == 1):\n",
    "        return op1 + op2\n",
    "    elif(code == 2):\n",
    "        return op1 - op2\n",
    "    elif(code == 3):\n",
    "        return op1*op2\n",
    "    elif(code == 4):\n",
    "        return op1/op2\n",
    "    elif(code == 5):\n",
    "        return op1**op2\n",
    "    elif(code == 6):\n",
    "        return m.sqrt(op1)\n",
    "    else:\n",
    "        return m.log(op1,op2)\n",
    "    \n",
    "op1 = eval(input(\"Enter first operand: \"))\n",
    "op2 = eval(input(\"Enter second operand: \"))\n",
    "code = eval(input(\"Enter operation code: \"))\n",
    "\n",
    "result = simCal(op1,op2,code)\n",
    "print(f\"The operation gives {result}\")"
   ]
  },
  {
   "cell_type": "markdown",
   "metadata": {},
   "source": [
    "## <span style = \"color:blue\">Question 2</span>\n",
    "Write a program to check if a numpy array that is already declared contains negative values. If yes, replace each negative value with 0. Output the resulting array."
   ]
  },
  {
   "cell_type": "code",
   "execution_count": 37,
   "metadata": {},
   "outputs": [],
   "source": [
    "import numpy as np\n",
    " \n",
    "# Declare a numpy array\n",
    "arr = np.array([[1,2,3],\n",
    "                [-4,5,6],\n",
    "                [7,-8,9]])\n",
    "print(f\"Array before modification:\\n{arr}\")\n",
    "\n",
    "# Insert your code here"
   ]
  },
  {
   "cell_type": "code",
   "execution_count": 5,
   "metadata": {
    "scrolled": true
   },
   "outputs": [
    {
     "name": "stdout",
     "output_type": "stream",
     "text": [
      "Array before modification:\n",
      "[[ 1  2  3]\n",
      " [-4  5  6]\n",
      " [ 7 -8  9]]\n",
      "Array after modification:\n",
      "[[1 2 3]\n",
      " [0 5 6]\n",
      " [7 0 9]]\n",
      "Array before modification:\n",
      "[[ 1  2  3]\n",
      " [-4  5  6]\n",
      " [ 7 -8  9]]\n",
      "Array after modification:\n",
      "[[1 2 3]\n",
      " [0 5 6]\n",
      " [7 0 9]]\n"
     ]
    }
   ],
   "source": [
    "import numpy as np\n",
    " \n",
    "# Declare a numpy array\n",
    "arr = np.array([[1,2,3],\n",
    "                [-4,5,6],\n",
    "                [7,-8,9]])\n",
    "print(f\"Array before modification:\\n{arr}\")\n",
    "\n",
    "# Retrieve every element via indexing for comparison\n",
    "for i in range(len(arr)):          # Outer loop iterates through rows; i is the row index: [0,1,2]\n",
    "    for j in range(len(arr[i])):   # Inner loop iterates through elements in each row; j is the column index: [0,1,2]\n",
    "                                   # Take note that arr[0] can also be arr[1] or arr[2] or arr[i]\n",
    "        if arr[i][j] < 0:          # arr[i,j] < 0 is also fine        \n",
    "            arr[i][j] = 0          # arr[i,j] = 0 is also fine         \n",
    "print(f\"Array after modification:\\n{arr}\")\n",
    "\n",
    "# The above for loop could also be written in another manner as shown below:\n",
    "arr1 = np.array([[1,2,3],\n",
    "                [-4,5,6],\n",
    "                [7,-8,9]])\n",
    "print(f\"Array before modification:\\n{arr1}\")\n",
    "\n",
    "arr1 = np.where(arr1<0,0,arr1)\n",
    "print(f\"Array after modification:\\n{arr1}\")\n",
    "\n",
    "# np.where(condition,x,y) is a numpy function that returns an array with elements from x where condition is True, \n",
    "# and elements from y otherwise. It is BETTER that you understand how to code using the indexing method \n",
    "# where more thinking will be required on your part. While using the latter method makes your code more efficient, \n",
    "# it does not require as much computational thinking since it is just issuing a function call with the right arguments."
   ]
  }
 ],
 "metadata": {
  "kernelspec": {
   "display_name": "Python 3 (ipykernel)",
   "language": "python",
   "name": "python3"
  },
  "language_info": {
   "codemirror_mode": {
    "name": "ipython",
    "version": 3
   },
   "file_extension": ".py",
   "mimetype": "text/x-python",
   "name": "python",
   "nbconvert_exporter": "python",
   "pygments_lexer": "ipython3",
   "version": "3.9.12"
  }
 },
 "nbformat": 4,
 "nbformat_minor": 4
}
