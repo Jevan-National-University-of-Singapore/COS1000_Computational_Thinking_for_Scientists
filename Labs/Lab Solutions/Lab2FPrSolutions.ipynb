{
 "cells": [
  {
   "cell_type": "markdown",
   "metadata": {},
   "source": [
    "# <span style = \"color:blue\">Lab 2 Further Practice Solutions</span>"
   ]
  },
  {
   "cell_type": "code",
   "execution_count": 1,
   "metadata": {},
   "outputs": [
    {
     "name": "stdout",
     "output_type": "stream",
     "text": [
      "Joe said, \"I'm reading the book 'Treasure Island'.\"\n",
      "*         *\n",
      "***     ***\n",
      "***** *****\n",
      "***********\n"
     ]
    }
   ],
   "source": [
    "# Question 1(a)\n",
    "\n",
    "print(\"Joe said, \\\"I'm reading the book 'Treasure Island'.\\\"\")\n",
    "\n",
    "# Question 1(b)\n",
    "print(\"*\",\" \"*7,\"*\")\n",
    "print(\"***\",\" \"*3,\"***\")\n",
    "print(\"***** *****\")\n",
    "print(\"*\"*11)"
   ]
  },
  {
   "cell_type": "code",
   "execution_count": 2,
   "metadata": {},
   "outputs": [
    {
     "name": "stdout",
     "output_type": "stream",
     "text": [
      "1030\n",
      "766135\n",
      "Enter a value for sigma: 1\n",
      "Enter a value for r: 2\n",
      "V(r) = -0.015380859375\n"
     ]
    }
   ],
   "source": [
    "# Question 2(a)\n",
    "x = 10\n",
    "y = x**3 + 2*x + 10\n",
    "print(y)\n",
    "\n",
    "# Question 2(b)\n",
    "x = 15\n",
    "y = x*(x*(x*(x**2 + 2))) + 10\n",
    "print(y)\n",
    "\n",
    "# Question 2(c)\n",
    "sigma = eval(input(\"Enter a value for sigma: \"))\n",
    "r = eval(input(\"Enter a value for r: \"))\n",
    "s_over_r = sigma/r\n",
    "\n",
    "print(\"V(r) =\", s_over_r**12 - s_over_r**6)"
   ]
  },
  {
   "cell_type": "code",
   "execution_count": 13,
   "metadata": {},
   "outputs": [
    {
     "name": "stdout",
     "output_type": "stream",
     "text": [
      "Enter number of apples: 10\n",
      "Enter number of cans of sardines: 10\n",
      "Enter number of packets of rice: 10\n",
      "\n",
      "\t\tPrime Grocery Store\n",
      "==================================================\n",
      "Blk 123, Queen's Avenue, #01-222, Singapore 987654\n",
      "\t\tTel: 62345678\n",
      "==================================================\n",
      "\t\tGST No.: M2-0001234-0\n",
      "--------------------------------------------------\n",
      "Item\t\t\t\t\tPrice\n",
      "--------------------------------------------------\n",
      "Apples (5 for $3.95)\t\t           7.90\n",
      "Canned sardines\t\t\t          43.50\n",
      "Packet rice\t\t\t         150.00\n",
      "==================================================\n",
      "Total\t\t\t\t\t$201.40\n",
      "GST (7%)\t\t\t\t$13.18\n",
      "\n",
      "\n",
      "--------------------------------------------------\n",
      "Transaction date: 19/09/2022, 09:11:55\n"
     ]
    }
   ],
   "source": [
    "# Question 3\n",
    "\n",
    "from datetime import datetime   # Import module for printing date and time\n",
    "\n",
    "price_5apples = 3.95    # in dollars\n",
    "price_sardines = 4.35   # in dollars\n",
    "price_rice = 15.00      # in dollars\n",
    "GST = 7                 # in percent\n",
    "\n",
    "numApples = eval(input(\"Enter number of apples: \"))\n",
    "numSardines = eval(input(\"Enter number of cans of sardines: \"))\n",
    "numRice = eval(input(\"Enter number of packets of rice: \"))\n",
    "\n",
    "pApples = numApples/5*price_5apples\n",
    "pSardines = numSardines*price_sardines\n",
    "pRice = numRice*price_rice\n",
    "total = pApples + pSardines + pRice\n",
    "tax = total - (100/107)*total\n",
    "              \n",
    "print(\"\\n\\t\\tPrime Grocery Store\")\n",
    "print(\"=\"*50)\n",
    "print(\"Blk 123, Queen's Avenue, #01-222, Singapore 987654\")\n",
    "print(\"\\t\\tTel: 62345678\")\n",
    "print(\"=\"*50)\n",
    "print(\"\\t\\tGST No.: M2-0001234-0\")\n",
    "\n",
    "print(\"-\"*50)\n",
    "print(\"Item\\t\\t\\t\\t\\tPrice\")\n",
    "print(\"-\"*50)\n",
    "\n",
    "print(f\"Apples (5 for $3.95)\\t\\t{pApples:>15.2f}\")   # >15 means up to 15 characters display is allowed that will flush right \n",
    "print(f\"Canned sardines\\t\\t\\t{pSardines:>15.2f}\")\n",
    "print(f\"Packet rice\\t\\t\\t{pRice:>15.2f}\")\n",
    "print(\"=\"*50)\n",
    "print(f\"Total\\t\\t\\t\\t\\t${total:.2f}\")\n",
    "print(f\"GST (7%)\\t\\t\\t\\t${tax:.2f}\")\n",
    "print(\"\\n\")\n",
    "print(\"-\"*50)\n",
    "\n",
    "now = datetime.now()   # now() is a function in datetime that will return the date and time in time format\n",
    "date_time = now.strftime(\"%d/%m/%Y, %H:%M:%S\")   # strftime() converts date and time to required string representation\n",
    "print(\"Transaction date:\",date_time)"
   ]
  },
  {
   "cell_type": "code",
   "execution_count": null,
   "metadata": {},
   "outputs": [],
   "source": []
  }
 ],
 "metadata": {
  "kernelspec": {
   "display_name": "Python 3 (ipykernel)",
   "language": "python",
   "name": "python3"
  },
  "language_info": {
   "codemirror_mode": {
    "name": "ipython",
    "version": 3
   },
   "file_extension": ".py",
   "mimetype": "text/x-python",
   "name": "python",
   "nbconvert_exporter": "python",
   "pygments_lexer": "ipython3",
   "version": "3.9.12"
  }
 },
 "nbformat": 4,
 "nbformat_minor": 4
}
