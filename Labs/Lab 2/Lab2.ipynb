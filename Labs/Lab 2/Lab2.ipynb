{
 "cells": [
  {
   "cell_type": "markdown",
   "metadata": {},
   "source": [
    "# Lab 2: Programming Fundamentals"
   ]
  },
  {
   "cell_type": "markdown",
   "metadata": {},
   "source": [
    "# <span style=\"color:blue\"> In this lab session, you will learn:</span>\n",
    "- ### some programming fundamentals as follows:\n",
    "    - inserting comments\n",
    "    - displaying output using the print() function\n",
    "    - variables and what they do \n",
    "    - declaring data types (int, float, string, boolean)\n",
    "    - basic arithmetic operations\n",
    "    - data type conversions\n",
    "    - augmented operations\n",
    "    - collection of data (list, tuple)\n",
    "- ### about the types of programming errors\n",
    "\n",
    "**Note:** Optional examples are for your interest only. You may skip them if you like."
   ]
  },
  {
   "cell_type": "markdown",
   "metadata": {},
   "source": [
    "## <span style=\"color:green\">Some useful keyboard shortcuts:</span>\n",
    "- Double click on left side of cell and press \"l\" on keyboard: display line numbers.\n",
    "- Kernel $ \\longrightarrow $ Interrupt if a particular cell does not yield any output; then run or execute cell again\n",
    "- Kernel $ \\longrightarrow $ Shutdown if the Interrupt function does not work; then click on notebook in dashboard and execute cell again. Remember to close any window that contains a notebook that is already shutdown.\n",
    "\n",
    "<span style=\"color:blue\">When entering Python codes, always remember to work in the Code cell (with a In[ ]: on its left). If in doubt, you can always press Esc + Y to convert any cell into a Code cell (or do it through the \"universal\" menu via ctrl + shift + P)</span>"
   ]
  },
  {
   "cell_type": "markdown",
   "metadata": {},
   "source": [
    "# <span style=\"color:blue\"> Some definitions</span>"
   ]
  },
  {
   "cell_type": "markdown",
   "metadata": {},
   "source": [
    "- A **program** is a set of instructions that tells the computer what to do in order to solve a particular problem or execute a particular task. A program is expressed as codes in a programming langauge. \n",
    "\n",
    "- A **programming language** is a formal language designed to communicate instructions to a computer. Generally, we can catogerise programming languages into the following:\n",
    "    - High-level languages i.e. C++, Java, Python, etc.\n",
    "    - Low-level languages i.e. assembly language and machine language (binary 0,1)\n",
    "\n",
    "- A **compiler** is a computer software that translates a program written in a high-level language (<span style=\"color:blue\">source code</span>) to the machine language of a computer (known either as <span style=\"color:blue\">compiled or machine code</span>). The resulting compiled or machine code is typically a <span style=\"color:blue\">compiled file</span> such as a file with an \"<span style=\"color:blue\">.exe</span>\" extension. When the compiled code is executed, the computer CPU is running the compiled file i.e. \"running the program\". The program processes the input data to produce the desired output. Once you have a compiled file, you can run the program over and over again without having to compile it again.\n",
    "\n",
    "- An **interpreter** is a computer software that <span style=\"color:blue\">simulates a computer that understands a high-level language</span>. This means that <span style=\"color:blue\">the interpreter translates the source code line by line during the execution</span>. There is no compiled code when using an interpreter. Clearly, an interpreter is more flexible and can be run interactively. For instance, blocks of code can be easily executed by themselves to check for their reliability. However, because of the lack of a machine-level compiled code, an interpreted code typically runs more slowly.\n",
    "\n",
    "**Question: If speed is the main concern, should one write a program in a high-level or low-level language?**\n"
   ]
  },
  {
   "cell_type": "markdown",
   "metadata": {},
   "source": [
    "\n",
    "# <span style=\"color:blue\">Python programming language</span>\n",
    "\n",
    "Python is an <span style=\"color:blue\"><i>object-oriented</i></span> language that was developed in the late 1980s as a scripting language (the name is derived from the British television series, <i>Monty Python’s Flying Circus</i>). Python has today emerged as one of the most popular programming languages ([see TIOBE list](https://www.tiobe.com/tiobe-index/)). It is a language of choice for a large variety of applications  not just in science and engineering, but also as the backbone of many commercial applications. \n",
    "\n",
    "Python programs are not compiled into machine code, but are run by an interpreter. The great advantage of an interpreted language is that programs can be tested and debugged quickly, allowing the user to concentrate more on the principles behind the program and less on programming itself. As there is no necessity to compile, link and execute after each program is written, Python programs can be developed in much shorter times compared to an equivalent say C program. It is also easier to learn for beginners.\n"
   ]
  },
  {
   "cell_type": "markdown",
   "metadata": {
    "collapsed": true
   },
   "source": [
    "## <span style=\"color:blue\">Inserting comments</span>\n",
    "\n",
    "Comments are bascially notes to help readers and yourself keep track of what a program is for and what it's doing. They serve as useful labels, descriptions and reminders for what bits of codes are and how they are connected to other codes. Comments are not interpreted by Python. Comments can differentiate between good and bad coding practice!\n",
    "\n",
    "There are two ways to enter comments:\n",
    "- The pound sign (<span style=\"color:blue\">#</span>), also known as <span style=\"color:blue\">hash</span> can be written at the beginning of a line by itself or on the <span style=\"color:blue\">right</span> of a code line. \n",
    "\n",
    "- Three speech marks to begin the comment followed by the comment and then three speech marks to end the comment."
   ]
  },
  {
   "cell_type": "code",
   "execution_count": null,
   "metadata": {},
   "outputs": [],
   "source": [
    "# Example 1A: Inserting comments with two different placements\n",
    "\n",
    "1 + 2       # adding two numbers\n",
    "1 + 2 + 3   # adding three numbers\n",
    "\"Welcome to COS1000!\"   # Welcome message"
   ]
  },
  {
   "cell_type": "code",
   "execution_count": null,
   "metadata": {},
   "outputs": [],
   "source": [
    "# Example 1B: Inserting comments with \"\"\" \"\"\"\n",
    "\n",
    "\"\"\"\n",
    "Welcome to COS1000\n",
    "Computational Thinking for Scientists\n",
    "This is Lab 2\n",
    "\n",
    "\"\"\"\n",
    "\n",
    "1 + 2"
   ]
  },
  {
   "cell_type": "markdown",
   "metadata": {},
   "source": [
    "## <span style=\"color:blue\">Displaying output using the print() function</span>\n",
    "\n",
    "The print( ) function is used to output characters, statements as well as any computational results. As seen in EXample 1A, without the print() function, we were only able to output the latest computation result. Notice the use of colour codes in Jupyter Notebook to differentiate between syntax and input etc."
   ]
  },
  {
   "cell_type": "code",
   "execution_count": null,
   "metadata": {},
   "outputs": [],
   "source": [
    "# Example 2A: Printing a statement using the print() command\n",
    "\n",
    "print(\"Statement must be within a pair of single or double quotation marks.\")\n",
    "\n",
    "# Is a combination of quotes possible? "
   ]
  },
  {
   "cell_type": "code",
   "execution_count": null,
   "metadata": {},
   "outputs": [],
   "source": [
    "# Example 2B: Can all the following characters be printed?\n",
    "\n",
    "print('123456!@#$%^*>\\/(){}[]=ABCDEFabcdef')   # '\\' is backslash; '/' is forward slash\n",
    "\n",
    "print(\"123456!@#$%^*>\\/'(){}[]=ABCDEFabcdef\")   \n",
    "\n",
    "print(\"123456!@#$%^*>\\/\"'(){}[]=ABCDEFabcdef\")"
   ]
  },
  {
   "cell_type": "markdown",
   "metadata": {},
   "source": [
    "There is a syntax error when the third line of code is run. It arises because the double quotation marks (\") are used to mark the beginning and end of the print statement. To print double quotation marks, use a backslash \\\\."
   ]
  },
  {
   "cell_type": "code",
   "execution_count": null,
   "metadata": {},
   "outputs": [],
   "source": [
    "# Example 2C: This is how you print the double quotation marks (also known as double inverted commas):\n",
    "\n",
    "print(\"\\\"Insert a backslash before the quotes if you want them to appear.\\\"\")"
   ]
  },
  {
   "cell_type": "code",
   "execution_count": null,
   "metadata": {},
   "outputs": [],
   "source": [
    "# Example 2D: Consecutive print() commands produce output on consecutive lines\n",
    "\n",
    "print(\"Hello World Konnichiwa Sekai\")         \n",
    "print(\"Hello World\")\n",
    "print(\"Konnichiwa Sekai\")"
   ]
  },
  {
   "cell_type": "code",
   "execution_count": null,
   "metadata": {},
   "outputs": [],
   "source": [
    " #Example 2E: Various ways to print combined phrases; printing multiple times \n",
    "\n",
    "print('Hello World'\"Hello World\")         \n",
    "print(\"Hello World\",\"Hello World\")   # Using a comma will create a character space in between the phrases\n",
    "\n",
    "print(\"=\" * 10)   # Use an 'asterisk' for repeated print"
   ]
  },
  {
   "cell_type": "code",
   "execution_count": null,
   "metadata": {},
   "outputs": [],
   "source": [
    "# Example 2F: Use escape sequences \\t for tab and \\n for new line\n",
    "\n",
    "print(\"Hello World\\n\")         # New line spacing\n",
    "print(\"Hello\\tWorld\")          # One tab spacing\n",
    "print(\"Hello\\tWorld\\tWorld\\n\")\n",
    "\n",
    "print(\"Index\\tName\\t\\tFavourite Colour\")\n",
    "print(\"=====\\t====\\t\\t================\")\n",
    "print(\"1\\tArya\\t\\t\\tRed\")\n",
    "print(\"2\\tBernice\\t\\t\\tGreen\")\n",
    "print(\"3\\tHanis Batrisyia\\t\\t\\tPurple\")\n",
    "\n",
    "# Each tab casues the next string of characters after the tab to be printed eight character spaces away from the \n",
    "# beginning of the previous string of character(s). If the string of characters has exactly eight or more characters,\n",
    "# the tabs will be counted differently."
   ]
  },
  {
   "cell_type": "markdown",
   "metadata": {},
   "source": [
    "## <span style=\"color:blue\">Variables and what they do</span> \n",
    "\n",
    "Variables allow us to store values into memory using a name we assign. We can access the values later by referencing the name we used. Some common types of data that a variable can store are:\n",
    "\n",
    "> - numbers (integers, floats or complex numbers) \n",
    "> - boolean (True or False values)\n",
    "> - string (characters within quotes such as numbers, letters, symbols and empty space)\n",
    "> - collection of data (list, tuple, dictionaries, etc)\n",
    "\n",
    "Data types define what we can do and how these values are stored in memory on the computer. Each data type requires a different amount of RAM memory per variable.\n",
    "\n",
    "Variables that represent numbers can be categorised into a few different types:\n",
    "- **Integer:** An integer variable can take integer value (whole number) only, such as 1, 0 or −286784. Both positive and negative values are allowed, but not fractional values like 1.5.\n",
    "- **Float:** A floating-point variable, or “float” for short, can take real or floating-point value such as 3.14159, −6.63 × 10$^{−34}$ or 1.0. Notice that a floating-point variable can take integer-like values like 1.0 (which after all is also a real number) too.\n",
    "- **Complex:** A complex variable can take a complex value, such as 1 + 2j or −3.5 − 0.4j.\n",
    "<div><b>Note:</b> In Python, the unit imaginary number $\\sqrt{-1}$ is called j, not i.</div>\n",
    "\n",
    "<div class = \"alert alert-success\">\n",
    "<b>Important Note:</b> Variable names can be made up of letters, numbers and the underscore character (_), <span style=\"color:red\">but they cannot start with a number</span>. You can use anything from single letters (such as a) to a long phrase for variable names. <span style=\"color:red\">A variable name cannot contain a space</span>, so use an underscore instead to denote space. To be efficient, short variable names are recommended. However, longer and more meaningful variable names should be used if you or your collaborators need to refer to the code again at a later time.\n",
    "</div>"
   ]
  },
  {
   "cell_type": "markdown",
   "metadata": {},
   "source": [
    "### <span style=\"color:blue\">Working with numbers</span>\n",
    "Let's now work with our first variables. In the weight calculator example below, two variables <span style=\"color:blue\">mass</span> and <span style=\"color:blue\">g_acc</span> are defined, and the third variable <span style=\"color:blue\">weight</span> is computed from them. The <span style=\"color:blue\">type()</span> function is used to display the data type of a variable. You will learn more about functions in Lab 4."
   ]
  },
  {
   "cell_type": "code",
   "execution_count": null,
   "metadata": {},
   "outputs": [],
   "source": [
    "# Example 3: A simple weight calculator\n",
    "\n",
    "mass = 100            # unit in kg \n",
    "g_acc = 9.81          # unit in m/s^2\n",
    "weight = mass*g_acc   # mass times gravitational acceleration; unit in Newton (N)\n",
    "\n",
    "print(\"Weight of object =\",weight,\"N\")\n",
    "print(type(mass),type(g_acc),type(weight))  # Output the data types of variables declared"
   ]
  },
  {
   "cell_type": "markdown",
   "metadata": {},
   "source": [
    "### <span style=\"color:blue\">Working with strings</span>\n",
    "A string is a sequence of characters enclosed within single or double quotes. The following are often applied to strings:\n",
    "- concatenation\n",
    "- formatting\n",
    "- indexing\n",
    "- slicing\n",
    "\n",
    "There are many functions available in Python that work with strings. To activate the function, following the variable name, type a period \".\" followed by the function name and parenthesis. Some examples are <span style=\"color:blue\">title(), lower(), upper(), find(), split()</span>, etc."
   ]
  },
  {
   "cell_type": "code",
   "execution_count": null,
   "metadata": {},
   "outputs": [],
   "source": [
    "# Example 4A: String concatenation\n",
    "# To concatenate or join strings, use the \"+\" sign\n",
    "\n",
    "string1 = \"Welcome to \"\n",
    "string2 = \"COS1000!\"\n",
    "string3 = string1 + string2   # Store concatenation of two strings into another variable\n",
    "print(string3)"
   ]
  },
  {
   "cell_type": "code",
   "execution_count": null,
   "metadata": {},
   "outputs": [],
   "source": [
    "# Example 4B: String formatting using % formatting, format() and fString\n",
    "# String formatting allows us to write an entire string and inject the variables we want to use in their proper locations.\n",
    "# Three ways are introduced below\n",
    "\n",
    "item1 = \"table\"\n",
    "cost1 = 10.00\n",
    "item2 = \"chair\"\n",
    "cost2 = 5.00   \n",
    "print(\"Cost of %s: $%s; cost of %s: $%s\" % (item1,cost1,item2,cost2))       # Using % formatting\n",
    "print(\"Cost of {}: ${}; cost of {}: ${}\".format(item1,cost1,item2,cost2))   # Using format() function\n",
    "print(f\"Cost of {item1}: ${cost1}; cost of {item2}: ${cost2}\")              # Using fString\n",
    "print(f\"Total cost: ${cost1 + cost2:.2f}\")   # 2 decimal places"
   ]
  },
  {
   "cell_type": "markdown",
   "metadata": {},
   "source": [
    "### <span style=\"color:blue\">More about strings</span>\n",
    "When a computer saves a string into memory, each character within the string is assigned an index. An index is essentially a location in memory. <span style=\"color:red\"><b>Indexing in Python starts from 0 not 1.</b></span> Take note of the following:\n",
    "- To reference a character, the index location must be put within square brackets.\n",
    "- Syntax for slicing:  <span style=\"color:blue\">variable_name[start : stop : step]</span> ('start', 'stop' and 'step' are indices; 'stop-1' is being referenced instead and 'step' is optional)\n",
    "- The number of characters in a string or its length can be returned using the <span style=\"color:blue\">len()</span> function.\n",
    "- String is immutable or cannot be altered."
   ]
  },
  {
   "attachments": {
    "Lab2Indexing.png": {
     "image/png": "[encoded data removed]"
    }
   },
   "cell_type": "markdown",
   "metadata": {},
   "source": [
    "Refer to the diagram here for Example 4C\n",
    "![Lab2Indexing.png](attachment:Lab2Indexing.png)"
   ]
  },
  {
   "cell_type": "code",
   "execution_count": null,
   "metadata": {},
   "outputs": [],
   "source": [
    "# Example 4C: String indexing, slicing and immutability\n",
    "\n",
    "word = \"Computational\"\n",
    "print(\"Length of word:\", len(word))   # Output the number of characters in the string assigned to the variable\n",
    "print(word[0])        # Returns the first character in string\n",
    "print(word[3])        # Returns the foruth character in string\n",
    "print(word[12])       # Returns the last character in string\n",
    "print(word[-1])       # Returns the last character in string\n",
    "print(word[0:12])     # [0:12] returns all the characters in string, really? Remember 'stop' index is 'stop-1'\n",
    "print(word[:])        # Returns all the characters in string\n",
    "print(word[3:6])      # Returns fourth to sixth character in string\n",
    "print(word[0:13:2])   # Returns characters with index incremented by two each time\n",
    "\n",
    "#word[0] = \"k\"        # demonstrates that a string is immutable (cannot be changed once assigned)\n",
    "print(word.lower())"
   ]
  },
  {
   "cell_type": "markdown",
   "metadata": {},
   "source": [
    "### <span style=\"color:blue\">Working with boolean</span>\n",
    "A Boolean is a <span style=\"color:green\">True</span> or <span style=\"color:green\">False</span> value and could be assigned to a variable by simply typing it as it is. It is typically used with conditional statements."
   ]
  },
  {
   "cell_type": "code",
   "execution_count": null,
   "metadata": {},
   "outputs": [],
   "source": [
    "# Example 5: Boolean values\n",
    "\n",
    "end_of_game = True\n",
    "print(end_of_game)"
   ]
  },
  {
   "cell_type": "markdown",
   "metadata": {},
   "source": [
    "## <span style=\"color:blue\">Magic commands</span>\n",
    "\n",
    "Magic commands, or magics, are handy commands built into the IPython kernel (a kernel is a runtime environment that provides programming language support for the Jupyter Notebook application) that make it easy to perform particular tasks, for example, interacting Python’s capabilities with the operating system or another programming language. Learn more about the commonly used magic commands [here](https://towardsdatascience.com/top-8-magic-commands-in-jupyter-notebook-c1582e813560)."
   ]
  },
  {
   "cell_type": "code",
   "execution_count": null,
   "metadata": {},
   "outputs": [],
   "source": [
    "%lsmagic"
   ]
  },
  {
   "cell_type": "code",
   "execution_count": null,
   "metadata": {},
   "outputs": [],
   "source": [
    "%run Hi.py\n",
    "%who"
   ]
  },
  {
   "cell_type": "markdown",
   "metadata": {},
   "source": [
    "<div class = \"alert alert-success\">\n",
    "<b>Note:</b> From now on, we will often include the magic command <b>%reset</b> as the first line of code. This deletes all the stored variables (also frees up memory), so as to avoid potential conflicts from previously defined variables. Press \"Y\" when asked to delete previously defined variables.\n",
    "</div>"
   ]
  },
  {
   "attachments": {
    "image.png": {
     "image/png": "[encoded data removed]"
    }
   },
   "cell_type": "markdown",
   "metadata": {},
   "source": [
    "## <span style=\"color:blue\">Basic arithmetic operations</span>\n",
    "Python can be used as a powerful calculator (actually, that is what computers are, machines that compute). \n",
    "Arithmetic operators are used with numeric values to perform common mathematical operations:\n",
    "\n",
    "\n",
    "Operator  |Operation Name  | EXAMPLE               |\n",
    ":--------:|:--------------------------|:----------------------|\n",
    "\\+        |Addition                   | 30 $+$ 2              |\n",
    "\\-        |Subtraction                | 20 $-$ 3              |  \n",
    "\\*        |Multiplication             | 20$*$3                | \n",
    "\\/        |Division                   | 5$/$2, 50$/$2         |   \n",
    "//        |Floor Division $^{(\\text{a})}$   | 5$//$2, 50$//$2        | \n",
    "\\*\\*      |Exponentiation             | 2$**$3 ($\\equiv$ 2$*$2$*$2)  | \n",
    "\\%        |Modular division $^{(\\text{b})}$ | 1$\\%$2, 3$\\%$2, 4$\\%$2 | \n",
    "\n",
    "\n",
    "**Notes:** \n",
    "\n",
    "(a) Floor division is division with the quotient rounded down to the nearest integer.\n",
    "![image.png](attachment:image.png)\n",
    "\n",
    "(b) Modular division gives the remainder after division of the given numbers. (But do not assume that all programming languages do it in exactly the same way). \n",
    "\n",
    "These two variants of division are given commands on their own because they are used extremely often in programming, for example in computer graphics."
   ]
  },
  {
   "cell_type": "code",
   "execution_count": null,
   "metadata": {},
   "outputs": [],
   "source": [
    "# Example 6A: Divsion vs floor division vs modular division\n",
    "%reset\n",
    "\n",
    "numer = 17\n",
    "denom = 3\n",
    "\n",
    "result1 = numer/denom   # Divison\n",
    "result2= numer//denom   # Floor division\n",
    "result3 = numer%denom   # Modular division\n",
    "\n",
    "print(f\"Dvision of {numer} and {denom}: {result1}\")\n",
    "print(f\"Floor dvision of {numer} and {denom}: {result2}\")\n",
    "print(f\"Modular dvision of {numer} and {denom}: {numer%denom}\")"
   ]
  },
  {
   "cell_type": "markdown",
   "metadata": {},
   "source": [
    "Note that parentheses can be nested, which means that there can be parentheses within parentheses, like this: \n",
    "\n",
    "$$(\\,(5 + 3) \\times 20\\,) ÷ 10$$\n"
   ]
  },
  {
   "cell_type": "code",
   "execution_count": null,
   "metadata": {},
   "outputs": [],
   "source": [
    "# Example 6B: Using parenthesis; why are the results for first two lines not the same?\n",
    "%reset\n",
    "\n",
    "print(7.5 + 8.7)\n",
    "print(7.6 + 8.7)\n",
    "print(2**3*3-10/5*5)   # Arithmetic operators follow the same precedence rules as in mathematics\n",
    "print(2**3*3-10/(5*5))"
   ]
  },
  {
   "cell_type": "markdown",
   "metadata": {},
   "source": [
    "Programming languages use the system-provided floating-point format, which represents values in binary rather than in decimal. Decimal values like 0.1 cannot be represented in its exact form, so instead the closest representable value is stored, resulting in a small error. Many users are not aware of the approximation because of the way values are displayed. Python only prints a decimal approximation to the true decimal value of the binary approximation stored by the machine. On most machines, if Python were to print the true decimal value of the binary approximation stored for 0.1, it would have to display 0.1000000000000000055511151231257827021181583404541015625. That is more digits than most people find useful, so Python keeps the number of digits manageable by displaying a rounded value instead. \n",
    "\n",
    "Similarly, any given arithmetic operation on floating-point numbers may result in a value that is not exactly representable, so the true mathematical result is replaced with the closest representable value. Different languages may choose to display the same exact results differently."
   ]
  },
  {
   "cell_type": "markdown",
   "metadata": {},
   "source": [
    "## <span style=\"color:blue\">Data type conversion</span> \n",
    "We can regard strings as data \"stored as text\" and int, float and complex as data \"stored as numerical values\". Very often, we will need to convert between them via the following commands:\n",
    "\n",
    "| Conversion Function   | Explanation       |\n",
    "|:----------------------|:------------------|\n",
    "|int(b)      | Converts b to integer        |\n",
    "|float(b)    | Converts b to floating point |\n",
    "|complex(b)  | Converts to complex b + 0j   |\n",
    "|complex(b,d)| Converts to complex b + dj   |\n",
    "|str(b)      | Converts b to string         | \n",
    "|eval(b)     | Converts b to an appropriate type| \n",
    "\n",
    "<div class = \"alert alert-success\">    \n",
    "    <b>Note:</b> If an arithmetic operation involves numbers of mixed types, the numbers are automatically converted to a common type before the operation is carried out. These functions also work for converting strings to numbers as long as the string literal represents a valid number. Conversion from a float to an integer is carried out by truncation (rounding down), not by rounding off.\n",
    "</div>"
   ]
  },
  {
   "cell_type": "code",
   "execution_count": null,
   "metadata": {},
   "outputs": [],
   "source": [
    "# Example 7A: Data type conversions\n",
    "%reset    \n",
    "\n",
    "a = 5\n",
    "b = -3.6\n",
    "c = '4.0'\n",
    "\n",
    "# Print the data type for all the variables:\n",
    "print(\"a's datatype:\", type(a))\n",
    "print(\"b's datatype:\", type(b))\n",
    "print(\"c's datatype:\", type(c))\n",
    "\n",
    "# Automatic conversion and check data type:\n",
    "d = a + b\n",
    "print(f\"d = {d} and its datatype is\", type(d))\n",
    "\n",
    "b = int(b)\n",
    "print(b, type(b))\n",
    "\n",
    "#e = b + c   # Will this code work? \n",
    "\n",
    "c = eval(c)   # Convert c to float\n",
    "print(c, type(c))\n",
    "e = b + c\n",
    "print(e, type(e))\n",
    "\n",
    "print(int(78.99))\n",
    "print(float(int(78.99)))"
   ]
  },
  {
   "cell_type": "markdown",
   "metadata": {},
   "source": [
    "Now let's revisit the simple weight calculator. We shall make it more interactive through the <span style=\"color:blue\">input()</span> command, which stores whatever is typed by user at the keyboard as a string, even if it contains only numbers. To multiply the input quantities, the <span style=\"color:blue\">eval()</span> command is needed to convert them to numerical values first. What happens if you input non-numerical values?"
   ]
  },
  {
   "cell_type": "code",
   "execution_count": null,
   "metadata": {},
   "outputs": [],
   "source": [
    "# Example 7B: A simple weight calculator with user input. This example also demonstrates that variables are typed dynamically\n",
    "%reset\n",
    " \n",
    "mass_user = input(\"Enter mass in kg: \")   # Prompt for user input\n",
    "g_acc_user = input(\"Enter gravitational acceleration in m/s^2: \")   # Prompt for user input\n",
    "\n",
    "mass = eval(mass_user)     # Convert input to an appropriate data type\n",
    "g_acc = eval(g_acc_user)   # Convert input to an appropriate data type\n",
    "weight = mass * g_acc      # Compute weight\n",
    "\n",
    "print(f\"Weight of object = {weight} N\\n\")\n",
    "print(type(mass_user), type(g_acc_user)) \n",
    "print(type(mass), type(g_acc), type(weight))   # Output types of data after conversion and computation"
   ]
  },
  {
   "cell_type": "markdown",
   "metadata": {},
   "source": [
    "## <span style=\"color:blue\">Augmented operations</span> \n",
    "\n",
    "In programming, we often have to increment certain variables, for example, a variable may be repeatedly increased by one each time a certain event happens, such that the variable counts the number of events that has occured. This can be done by reassigning the variable with an expression like <span style=\"color:blue\">$a=a+1$</span>. This is done so commonly that, as in other programming languages like C and Java, there is a special way to write it, that is as an <span style=\"color:blue\">augmented assignment operation</span>. \n",
    "\n",
    "Basically, we shorten <span style=\"color:blue\">$a=a+1$ </span> to <span style=\"color:blue\">$a\\,+=\\,1$</span>. Some augmented operators and their equivalent arithmetic expressions are shown in following table:\n",
    "\n",
    "| Augmented Operator | Arithmetic Expression |\n",
    "|:--------:|:--------------:|\n",
    "| a $+=$ b | a $=$ a $+$ b  |\n",
    "| a $-=$ b | a $=$ a $-$ b  |\n",
    "| a $*=$ b | a $=$ a $*$ b  |\n",
    "| a $/=$ b | a $=$ a $/$ b  |\n",
    "| a $**$= b| a $=$ a $**$ b |\n",
    "| a $\\%=$ b | a $=$ a $\\%$ b  |\n"
   ]
  },
  {
   "cell_type": "code",
   "execution_count": null,
   "metadata": {},
   "outputs": [],
   "source": [
    "# Example 8A: Using augmented operators\n",
    "%reset\n",
    "\n",
    "a = \"Hello\"\n",
    "b = \"World\"\n",
    "\n",
    "a += b   # Same as a = a + b; original a is reassigned\n",
    "print(a)   \n",
    "\n",
    "a += b   # Another reassignment\n",
    "print(a)"
   ]
  },
  {
   "cell_type": "code",
   "execution_count": null,
   "metadata": {},
   "outputs": [],
   "source": [
    "# Example 8B: Using operators with user input\n",
    "%reset\n",
    "\n",
    "a = eval(input(\"Enter a: \"))\n",
    "b = eval(input(\"Enter b: \"))\n",
    "\n",
    "a+=b   # a=a+b\n",
    "b*=a   # b=b*a\n",
    "print(a,b)   # The reassigned a and b are equal to a+b and b(a+b), where a and b are the originals"
   ]
  },
  {
   "cell_type": "code",
   "execution_count": null,
   "metadata": {},
   "outputs": [],
   "source": [
    "# Example 8C(i): Equivalent mathematical expressions (Optional)\n",
    "%reset\n",
    "\n",
    "x = eval(input(\"Enter x: \"))\n",
    "y = eval(input(\"Enter y: \"))\n",
    "\n",
    "z = x*(x*(x + 3*x**2)) + 5   # Equation of the form x[x(x + 3x^2)] + 5 \n",
    "w = x**3 + 3*x**4 + 5        # Equation of the form x^3 + 3x^4 + 5\n",
    "\n",
    "print(\"The value of z is\",z)\n",
    "print(\"The value of w is\",w)\n",
    "\n",
    "# Which way of coding is more efficient (i.e. involves fewer operations or time)?"
   ]
  },
  {
   "cell_type": "code",
   "execution_count": null,
   "metadata": {},
   "outputs": [],
   "source": [
    "# Example 8C(ii): Equivalent mathematical expressions (Optional)\n",
    "%reset\n",
    "\n",
    "x = eval(input(\"Enter x: \"))\n",
    "y = eval(input(\"Enter y: \"))\n",
    "\n",
    "%timeit x*(x*(x + 3*x**2)) + 5   # Equation of the form x[x(x + 3x^2)] + 5 \n",
    "%timeit x**3 + 3*x**4 + 5        # Equation of the form x^3 + 3x^4 + 5"
   ]
  },
  {
   "cell_type": "markdown",
   "metadata": {},
   "source": [
    "\n",
    "## <span style=\"color:blue\">Lists and tuples</span> \n",
    "Lists and tuples are data structures that allow the storage of large sets or collections of data (multiple items allowed). Both contain an ordered sequence of elements that can be referenced via an index. Each element that is inside the list or tuple is also known as an item. While they exhibit their own respective characteristics, many methods are common among them."
   ]
  },
  {
   "cell_type": "markdown",
   "metadata": {},
   "source": [
    "### <span style=\"color:blue\">Tuples</span> \n",
    "\n",
    "- A tuple is <span style=\"color:blue\"> an ordered sequence of elements separated by commas and enclosed in parentheses (round brackets).</span>\n",
    "- Like strings, tuples are <span style=\"color:blue\">immutable</span> i.e. they cannot be altered once declared. Tuples are useful for storing information that you do not wish to change and you can iterate through them using an index."
   ]
  },
  {
   "cell_type": "code",
   "execution_count": null,
   "metadata": {},
   "outputs": [],
   "source": [
    "# Example 9A: Declaring tuples and examining their characteristics\n",
    "%reset\n",
    "\n",
    "x = (4,)             # A tuple with a single element; a final comma is required\n",
    "print(x,type(x))     # Output the tuple and its data type\n",
    "\n",
    "x = (3, 4.0, 59.7)   # A tuple with multiple elements\n",
    "print(x,type(x))     # Output the tuple and its data type\n",
    "print(x[0])          # Output the first element by referencing index 0: [0]\n",
    "\n",
    "# x[0] = 10          # Reassign x[0] which is not allowed"
   ]
  },
  {
   "cell_type": "code",
   "execution_count": null,
   "metadata": {},
   "outputs": [],
   "source": [
    "# Example 9B: A tuple can store different data types (Optional)\n",
    "%reset\n",
    "\n",
    "location = \"Clementi Hawker Centre\"   # Declare a string variable \n",
    "stall_num = 28                        # Declare an int variable\n",
    "food_item = \"Fish Soup\"               # Declare a string variable\n",
    "rating = \"Excellent\"                  # Declare a string variable\n",
    "\n",
    "hungry_go_where = (location,stall_num,food_item,rating)   # Declare a tuple\n",
    "print(\"Hungry go where:\",hungry_go_where)                 # Output tuple\n",
    "print(hungry_go_where[1])   # Output the second item via index 1: [1]\n",
    "\n",
    "hungry_go_here = ('Clementi Hawker Centre',28,'Fish Soup',\"Excellent\")   # Declare tuple directly\n",
    "print(hungry_go_here)"
   ]
  },
  {
   "cell_type": "markdown",
   "metadata": {},
   "source": [
    "### <span style=\"color:blue\">Lists</span> \n",
    "- A list is similar to a tuple but it is <span style=\"color:blue\">mutable</span>. Its elements can be changed individually. As such, lists are in general more widely used than tuples.\n",
    "- A list is identified by enclosing it in <span style=\"color:blue\">square brackets</span> with its elements separated by commas just like a tuple.\n",
    "- There are many functions available in Python to alter lists. Following the variable name, type a period \".\" followed by the function name and parenthesis. Some examples are <span style=\"color:blue\">pop(), remove() and sort()</span>."
   ]
  },
  {
   "cell_type": "code",
   "execution_count": null,
   "metadata": {},
   "outputs": [],
   "source": [
    "# Example 10A: Declaring a list; notice the elements can be output via referencing of their corresponding indices\n",
    "%reset  \n",
    "\n",
    "address = [\"7A\", \"King's Street\", 123456] \n",
    "print(address,type(address))\n",
    "print(address[0])\n",
    "print(address[1])\n",
    "print(address[2])\n",
    "unit = address[0]   # Assign item to a variable\n",
    "street = address[1]\n",
    "code = address[2]\n",
    "print(unit)\n",
    "print(street)\n",
    "print(code)"
   ]
  },
  {
   "cell_type": "code",
   "execution_count": null,
   "metadata": {},
   "outputs": [],
   "source": [
    "# Example 10B: Referencing elements in a list via variables\n",
    "%reset  \n",
    "\n",
    "rec = [\"Sawyer\",\"Tom\",[7,20,1958]]     # This is a list which contains another list\n",
    "lastName, firstName, birthdate = rec   # Assigning multiple variables using one line of code\n",
    "\n",
    "birthYear = birthdate[2]               # [2] locates the third item of the third element in the rec list \n",
    "name = firstName + \" \" + lastName      # Concatenate first and last names (or first and second items in the rec list)\n",
    "\n",
    "print(\"Name:\",name)\n",
    "print(\"Last name:\",lastName)\n",
    "print(\"First name:\",firstName)\n",
    "print(\"Birthday:\",birthdate)\n",
    "print(\"Month of birth:\",birthdate[0]) \n",
    "print(\"Day of birth:\",birthdate[1])\n",
    "print(\"Year of birth:\",birthdate[2])"
   ]
  },
  {
   "cell_type": "code",
   "execution_count": null,
   "metadata": {},
   "outputs": [],
   "source": [
    "# Example 10C: Referencing elements in a list directly via index\n",
    "%reset    \n",
    "\n",
    "rec = [\"Sawyer\",\"Tom\",[7,20,1958]]   # This is a list which contains another list\n",
    "\n",
    "print(\"Name:\",rec[1],rec[0])   # Output name\n",
    "print(\"Last name:\",rec[0])     # Output the first element in the rec list\n",
    "print(\"First name:\",rec[1])    # Output the second element in the rec list\n",
    "print(\"Birthday:\",rec[2])   # Output the third element in the rec list\n",
    "print(\"Month of birth:\",rec[2][0]) \n",
    "print(\"Day of birth:\",rec[2][1])\n",
    "print(\"Year of birth:\",rec[2][2])\n",
    "\n",
    "# The same output is obtained as Example 10B"
   ]
  },
  {
   "cell_type": "markdown",
   "metadata": {},
   "source": [
    "As lists are mutable, we can add elements using the <span style=\"color:blue\">insert()</span>, <span style=\"color:blue\">append()</span> or <span style=\"color:blue\">extend()</span> function. The insert() method inserts an item at the position indicated by an index. The <span style=\"color:blue\">append()</span> or <span style=\"color:blue\">extend()</span> function inserts an item at the end of the list. Both operations will increase the length of the list and can be checked by the <span style=\"color:blue\">len()</span> command."
   ]
  },
  {
   "cell_type": "code",
   "execution_count": null,
   "metadata": {},
   "outputs": [],
   "source": [
    "# Example 10D: Insert into a list; notice the similarities with manipulating a string\n",
    "%reset\n",
    "\n",
    "x = [1.0, 2.0, 3.0]   # Create a list of floats\n",
    "print(x[0])           # Display first element\n",
    "print(x[1])           # Display second element\n",
    "print(x[2])           # Display third element\n",
    "print(x[-1])          # Display last element (which is also third element)\n",
    "print(x)              # Display variable x\n",
    "print(x[0:3])         # Display first to third elements; remember it is 'stop-1' being referenced \n",
    "print(x[:])           # Display all elements\n",
    "print(len(x))         # Display length of list\n",
    "x.insert(3,-1.0)      # Insert number at index 3\n",
    "print(x)\n",
    "\n",
    "x.insert(0,5.0)       # Insert 5.0 at index 0\n",
    "print(x)              \n",
    "print(len(x))        \n",
    "\n",
    "x.insert(2,1.5)       # Insert 1.5 at index 2\n",
    "print(x)              \n",
    "print(len(x))         \n",
    "\n",
    "x[0] = 0.0            # Replace item at index 0 \n",
    "print(x)             "
   ]
  },
  {
   "cell_type": "code",
   "execution_count": null,
   "metadata": {},
   "outputs": [],
   "source": [
    "# Example 10E: Append to and extend a list\n",
    "%reset\n",
    "\n",
    "x = [1.0, 2.0, 3.0]   # Create a list containing floats\n",
    "print(x,type(x))\n",
    "x.append(4.0)         # Append 4.0 to the end of the list\n",
    "print(x,type(x))\n",
    "x.extend([5.0,6.0])   # Extend the list further\n",
    "print(x, type(x))\n",
    "\n",
    "# Can you append more than one element?\n",
    "# If x is declared a tuple, will append() and extend() work? "
   ]
  },
  {
   "cell_type": "code",
   "execution_count": null,
   "metadata": {},
   "outputs": [],
   "source": [
    "# Example 10F: Modifying a list\n",
    "%reset\n",
    "\n",
    "x = [1.0, 2.0, 3.0, 4.0]   # Create a list\n",
    "\n",
    "print(len(x))              # Display length of list\n",
    "x[1:3] = [10.0 , 11.0]     # Replace items at indcies 1 and 2; remember 'stop-1'\n",
    "\n",
    "print(x)                   # Display variable x after replacement\n",
    "print(len(x))              # Display length of list, which should remain the same"
   ]
  },
  {
   "cell_type": "markdown",
   "metadata": {},
   "source": [
    "### <span style=\"color:blue\">Cloning or copying a list</span> \n",
    "If x is a mutable object, such as a list, the assignment statement <span style=\"color:blue\">y $=$ x</span> does not produce a new object y, but simply creates y as an <span style=\"color:blue\">alias (same reference)</span> of x. This means that x and y refer to the <span style=\"color:blue\">same object</span> as they share the same memory location. To create an independent clone or copy of a list x, use the notation <span style=\"color:blue\">y = x[:]</span>."
   ]
  },
  {
   "cell_type": "code",
   "execution_count": null,
   "metadata": {},
   "outputs": [],
   "source": [
    "# Example 11: Creating an alias vs cloning\n",
    "%reset\n",
    "\n",
    "print(\"To demonstrate alias:\")\n",
    "x = [1.0, 2.0, 3.0]\n",
    "print(\"x before modification:\",x)\n",
    "\n",
    "y = x   # y is an alias of x\n",
    "print(\"y before modification:\",y)\n",
    "\n",
    "y[0] = 5.0   # Change first element of y\n",
    "\n",
    "print(\"x after modification:\",x)   # Do you notice x also changes?\n",
    "print(\"y after modification:\",y,\"\\n\")\n",
    "\n",
    "print(\"To demonstrate cloning:\")\n",
    "x = [1.0, 2.0, 3.0]   # Reset x to original value\n",
    "print(\"x before modification:\",x)\n",
    "\n",
    "z = x[:]   # z is a clone of x\n",
    "print(\"z before modification:\",z)\n",
    "\n",
    "z[0] = 5.0   # Change first element of z\n",
    "\n",
    "print(\"x after modification:\",x)   \n",
    "print(\"z after modification:\",z)   # x and z are independent lists"
   ]
  },
  {
   "cell_type": "markdown",
   "metadata": {},
   "source": [
    "### <span style=\"color:blue\">Creating lists via the range() method</span>\n",
    "\n",
    "A very quick way to create some sort of an arithmetic progression sequence in a list is via the use of the <span style=\"color:blue\">range()</span> method. It is often used to control program flow when combined with loop statements. \n",
    "\n",
    "<span style=\"color:blue\">list(range(min,max,step))</span> gives the list that starts from <span style=\"color:blue\">min</span> and increments in intervals of <span style=\"color:blue\">step</span> till just before it reaches <span style=\"color:blue\">max</span>."
   ]
  },
  {
   "cell_type": "code",
   "execution_count": null,
   "metadata": {},
   "outputs": [],
   "source": [
    "# Example 12: Using range() to generate lists \n",
    "    \n",
    "print(list(range(5)))       # Generates a list of 5 integers starting from 0 excluding 5\n",
    "print(list(range(2,8)))     # Generates a list of 6 integers from 2 to 7, excluding 8\n",
    "print(list(range(2,18,3)))  # Generates a list of integers starting from 2, increments in intervals of 3 and excluding 18\n",
    "print(list(range(20,2,-2))) # Generates a list of integers starting from 20, decrements in intervals of 2 and excluding 2\n",
    "print(list(range(20,4,3)))  # Is this possible? \n",
    "\n",
    "# print(list(range(1.5)))    # Returns error because range() works only with integers"
   ]
  },
  {
   "cell_type": "markdown",
   "metadata": {},
   "source": [
    "## <span style=\"color:blue\">Common types of programming errors</span>\n",
    "\n",
    "In programming, one inevitably encounters errors from time to time. To resolve an error more effectively, it is useful to recognise its nature. The three main types of errors are:\n",
    "\n",
    "- **Syntax Error** – Synax errors occur when the interpreter encounters code that does not conform to the rules of the programming language. For example, a quote is missing before or after a string. The interpreter halts and reports the error without executing the program."
   ]
  },
  {
   "cell_type": "code",
   "execution_count": null,
   "metadata": {},
   "outputs": [],
   "source": [
    "# Example 13A: Syntax error\n",
    "\n",
    "print(2+3)\n",
    "print(\"This is a long session. Thank you for your patience.)"
   ]
  },
  {
   "cell_type": "markdown",
   "metadata": {},
   "source": [
    "- **Runtime Error** – Runtime errors occur during the execution (running) of the program, even if the code syntax seems correct (for instance, when a variable name is mistyped). The interpreter runs the program, but halts at the error and reports the nature of the error as an “Exception” or \"NameError\"."
   ]
  },
  {
   "cell_type": "code",
   "execution_count": null,
   "metadata": {},
   "outputs": [],
   "source": [
    "# Example 13B: Runtime or NameError  \n",
    "\n",
    "print(2+3)\n",
    "title = \"COS1000 Computational Thinking for Scientists\"\n",
    "print(titlee)"
   ]
  },
  {
   "cell_type": "markdown",
   "metadata": {},
   "source": [
    "- **Semantic Error** – Semantic errors occur when the program performs unexpectedly, even though no error is actually reported. This usually arises when an unintended typo or design flaw in the code does not prevent it from running, but instead performs a different task from intended. Sometimes, it is just a typo which is easy to fix. At other times, it may be due to the subtleties related to how certain commands compute and output their results. Semantic errors are usually the hardest to fix!"
   ]
  },
  {
   "cell_type": "code",
   "execution_count": null,
   "metadata": {},
   "outputs": [],
   "source": [
    "# Example 13C: Semantic error in computing the square of a number\n",
    "\n",
    "num = 3\n",
    "print(num * 2)     # Supposed to compute num^2, but instead computes num x 2\n",
    "#print(num ** 2)   # This should have been the correct code"
   ]
  },
  {
   "cell_type": "markdown",
   "metadata": {},
   "source": [
    "<div class = \"alert alert-success\">\n",
    "Programming errors are often called “bugs” and the process of tracking them down is often called “debugging”. You may be wondering: why don't interpreters or compilers auto-debug the code, since that can be the most frustrating part of programming? Actually, some software development interfaces do perform a bit of auto-correction. Others, for example, <span style=\"color:blue\">Spyder in Anaconda navigator</span>, help by colour coding different structures, so as to point out any potential syntax errors. However, debugging assistance is usually designed to be quite conservative because errors can be ambiguous. For instance, is the mistyped code x=y: supposed to be x=y or x=y[:]? Languages like Python have undergone decades of refinement, so when it seems tricky to correct an error, there must be a pretty good reason why it was designed that way.\n",
    "</div>\n"
   ]
  },
  {
   "cell_type": "markdown",
   "metadata": {},
   "source": [
    "## References\n",
    "\n",
    "1. [W3 Schools](https://www.w3schools.com/python/default.asp)\n",
    "\n",
    "2. [The Python Tutorial](https://docs.python.org/3/tutorial/)"
   ]
  },
  {
   "attachments": {
    "Lab2FEx.png": {
     "image/png": "[encoded data removed]"
    },
    "Lab2FPrQ3.png": {
     "image/png": "[encoded data removed]"
    }
   },
   "cell_type": "markdown",
   "metadata": {},
   "source": [
    "## Further Practice\n",
    "\n",
    "### Question 1:\n",
    "Use print() to output the following:\n",
    "\n",
    "(a) Joe said, \"I'm reading the book 'Treasure Island'.\"\n",
    "\n",
    "(b) ![Lab2FEx.png](attachment:Lab2FEx.png)\n",
    "\n",
    "### Question 2:\n",
    "Write simple programs to solve the following: \n",
    "\n",
    "(a) Given $x = 10$ and $y = x^3 + 2 \\ x + 10$, solve for $y$.\n",
    "\n",
    "(b) Given $x = 15$ and $y = x\\{x[x \\ (x^2 + 2)]\\} + 10$, solve for $y$.\n",
    "\n",
    "(c) Evaluate $V(r)$ given user-input values of $\\sigma$ and $r$. \n",
    "$$ V(r) = \\left(\\frac{\\sigma}{r}\\right)^{12}- \\left(\\frac{\\sigma}{r}\\right)^{6} $$\n",
    "How can you minimise the number of operations involved?\n",
    "\n",
    "### Question 3:\n",
    "Prime Grocery Store is located at Blk 123, Queen's Avenue, #01-222, Singapore 987654 (Tel: 62345678; GST No.: M2-0001234-0). You are to write a program to print a receipt for a customer who has bought the following items from the store: \n",
    "- apples @ $3.95 for 5\n",
    "- sardines @ 4.35 per can\n",
    "- rice @ 15.00 per packet\n",
    "\n",
    "Assuming a GST (goods and services tax) of 7\\%, your receipt should display the total amount (which already includes the GST) to be paid and the GST amount. Prompt for the number of apples (in mulitples of 5), cans of sardines and packets of rice in your program. Display all the prices, total and GST amount and output the receipt as shown below.\n",
    "\n",
    "![Lab2FPrQ3.png](attachment:Lab2FPrQ3.png)\n",
    "\n",
    "Some lines of code have been done for you. Please complete the rest of the code."
   ]
  },
  {
   "cell_type": "code",
   "execution_count": null,
   "metadata": {},
   "outputs": [],
   "source": [
    "# Question 3\n",
    "\n",
    "%reset\n",
    "from datetime import datetime   # Import module for printing date and time\n",
    "\n",
    "# Insert your code here\n",
    "\n",
    "now = datetime.now()   # now() is a function in datetime that will return the date and time in time format\n",
    "date_time = now.strftime(\"%d/%m/%Y, %H:%M:%S\")   # strftime() converts date and time to required string representation\n",
    "print(\"Transaction date:\",date_time)"
   ]
  }
 ],
 "metadata": {
  "kernelspec": {
   "display_name": "Python 3",
   "language": "python",
   "name": "python3"
  },
  "language_info": {
   "codemirror_mode": {
    "name": "ipython",
    "version": 3
   },
   "file_extension": ".py",
   "mimetype": "text/x-python",
   "name": "python",
   "nbconvert_exporter": "python",
   "pygments_lexer": "ipython3",
   "version": "3.8.3"
  }
 },
 "nbformat": 4,
 "nbformat_minor": 2
}
