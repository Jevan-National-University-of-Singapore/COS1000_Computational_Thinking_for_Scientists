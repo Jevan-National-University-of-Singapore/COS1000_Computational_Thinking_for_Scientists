{
 "cells": [
  {
   "cell_type": "markdown",
   "metadata": {},
   "source": [
    "# The Monty Hall Problem"
   ]
  },
  {
   "cell_type": "markdown",
   "metadata": {},
   "source": [
    "The Monty Hall Problem is a famous game show problem which involves a host and a contestant. There are three doors: behind one of them is the prize car, and goats behind the other two. \n",
    "\n",
    "The game show goes like this:\n",
    "    \n",
    "1. The contestant picks any door (1, 2, or 3).\n",
    "\n",
    "2. The host then opens one of the remaining 2 doors to reveal a goat. \n",
    "\n",
    "3. The host then asks the contestant if (s)he wants to stay with the original guess, or switch to the remaining door.\n",
    "    \n",
    "What is the *best strategy* to play this game?  Switching or staying?"
   ]
  },
  {
   "cell_type": "markdown",
   "metadata": {},
   "source": [
    "# *Solution* through simulation\n",
    "\n",
    "We will simulate the game through computer codes, playing the game multiple number of times.  We then compute the probability that the contestant wins by staying or by switching."
   ]
  },
  {
   "cell_type": "code",
   "execution_count": 1,
   "metadata": {},
   "outputs": [
    {
     "name": "stdout",
     "output_type": "stream",
     "text": [
      "Winning probability by staying:  0.3322\n",
      "Winning probability by switching :  0.6678\n"
     ]
    }
   ],
   "source": [
    "import numpy as np\n",
    "import matplotlib.pyplot as plt\n",
    "import time\n",
    "%matplotlib inline\n",
    "\n",
    "# Simulate the game N times\n",
    "N = 10000\n",
    "\n",
    "# Records of winning or losing: 0 = losing, 1 = winning\n",
    "stay = 0\n",
    "switch = 0\n",
    "\n",
    "# Initialize random number generator\n",
    "np.random.seed()\n",
    "    \n",
    "for i in range(N):\n",
    "    # Door choices\n",
    "    doors = [1, 2, 3]\n",
    "    \n",
    "    # Contestant randomly selects a door\n",
    "    contestant_door=np.random.randint(1,4) \n",
    "    # Randomly assign the car behind one of the doors\n",
    "    car=np.random.randint(1,4) \n",
    "     \n",
    "    doors.remove(contestant_door)\n",
    "    if (contestant_door != car):\n",
    "        doors.remove(car) \n",
    "    \n",
    "    #Host reveals his chosen door\n",
    "    host_OpenDoor=np.random.choice(doors) \n",
    "\n",
    "    if contestant_door==car:\n",
    "        stay+=1\n",
    "    else: \n",
    "        switch+=1\n",
    "\n",
    "print(\"Winning probability by staying: \",stay/N) \n",
    "print(\"Winning probability by switching : \",switch/N)        \n"
   ]
  }
 ],
 "metadata": {
  "kernelspec": {
   "display_name": "Python 3 (ipykernel)",
   "language": "python",
   "name": "python3"
  },
  "language_info": {
   "codemirror_mode": {
    "name": "ipython",
    "version": 3
   },
   "file_extension": ".py",
   "mimetype": "text/x-python",
   "name": "python",
   "nbconvert_exporter": "python",
   "pygments_lexer": "ipython3",
   "version": "3.9.12"
  },
  "toc": {
   "base_numbering": 1,
   "nav_menu": {},
   "number_sections": true,
   "sideBar": true,
   "skip_h1_title": false,
   "title_cell": "Table of Contents",
   "title_sidebar": "Contents",
   "toc_cell": false,
   "toc_position": {},
   "toc_section_display": true,
   "toc_window_display": true
  }
 },
 "nbformat": 4,
 "nbformat_minor": 2
}
